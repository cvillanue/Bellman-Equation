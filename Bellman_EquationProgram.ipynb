{
  "nbformat": 4,
  "nbformat_minor": 0,
  "metadata": {
    "colab": {
      "name": "Bellman_EquationProgram",
      "provenance": [],
      "collapsed_sections": [],
      "authorship_tag": "ABX9TyOPZr8KJkN+GbeSg7ytBh3N",
      "include_colab_link": true
    },
    "kernelspec": {
      "name": "python3",
      "display_name": "Python 3"
    }
  },
  "cells": [
    {
      "cell_type": "markdown",
      "metadata": {
        "id": "view-in-github",
        "colab_type": "text"
      },
      "source": [
        "<a href=\"https://colab.research.google.com/github/cvillanue/Bellman-Equation/blob/main/Bellman_EquationProgram.ipynb\" target=\"_parent\"><img src=\"https://colab.research.google.com/assets/colab-badge.svg\" alt=\"Open In Colab\"/></a>"
      ]
    },
    {
      "cell_type": "markdown",
      "metadata": {
        "id": "kZRFKFhkifa9"
      },
      "source": [
        "# Bellman Equation (Reinforcement Learning) \n",
        "The Bellman equation shows up everywhere in the Reinforcement Learning literature, being one of the central elements of many Reinforcement Learning algorithms. In summary, we can say that the Bellman equation decomposes the value function into two parts, the immediate reward plus the discounted future values\n",
        "\n",
        "what the Bellman function will allow us to write an equation that will represent our State-Value Function $V^\\pi(s)$ as a recursive relationship between the value of a state and the value of its successor states. This equation simplifies the computation of the value function, such that rather than summing over multiple time steps, we can find the optimal solution of a complex problem by breaking it down into simpler, recursive subproblems and finding their optimal solutions.\n",
        "\n",
        "![image.png](data:image/png;base64,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)\n",
        "\n"
      ]
    },
    {
      "cell_type": "code",
      "metadata": {
        "id": "6Vbzk_pBcnTq",
        "colab": {
          "base_uri": "https://localhost:8080/"
        },
        "outputId": "2ab27ebc-db83-40dd-cfa8-7b4aa9d22be0"
      },
      "source": [
        "#Bellman Equation program - Callyn \n",
        "import numpy as np\n",
        "\n",
        "reward = [ [1, -10, -10, -10],\n",
        "        [1, -1, -1, -1],\n",
        "        [10, -10, -10, -1],\n",
        "        [1, 1, 1, -1],]\n",
        "\n",
        "discount_factor = 1\n",
        "tolerance = 1e-4\n",
        "reward = np.array(reward)\n",
        "terminal = np.zeros((4, 4))\n",
        "terminal[0,0] = 1\n",
        "\n",
        "\n",
        "value = np.zeros((4, 4))\n",
        "policy = np.full((4, 4, 4), 0.25)\n",
        "states = [(i, j) for i in range(4) for j in range(4)]\n",
        "\n",
        "def trans(state, action):\n",
        "  i, j = state\n",
        "  di, dj = [(-1, 0), (1, 0), (0, -1), (0, 1)][action]\n",
        "  return tuple(max(min(k, 3), 0) for k in (i + di, j + dj))\n",
        "  \n",
        "  while True:\n",
        "    new_value = np.array(value)\n",
        "    for s in states:\n",
        "      v = 0\n",
        "      for a in range(4):\n",
        "        s1 = trans(s, a)\n",
        "        v += policy[s + (a,)] * (reward[s1] + discount_factor * (1 - terminal[s1]) * value[s1])\n",
        "        new_value[s] = v\n",
        "        if np.abs(value - new_value).sum() <= tolerance:\n",
        "          break\n",
        "          np.set_printoptions(precision=5)\n",
        "          value = new_value\n",
        "print (value)"
      ],
      "execution_count": null,
      "outputs": [
        {
          "output_type": "stream",
          "name": "stdout",
          "text": [
            "[[0. 0. 0. 0.]\n",
            " [0. 0. 0. 0.]\n",
            " [0. 0. 0. 0.]\n",
            " [0. 0. 0. 0.]]\n"
          ]
        }
      ]
    }
  ]
}